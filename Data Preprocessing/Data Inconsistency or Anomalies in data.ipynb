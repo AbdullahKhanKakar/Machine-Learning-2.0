{
 "cells": [
  {
   "cell_type": "markdown",
   "id": "aaafc77d",
   "metadata": {},
   "source": [
    "# Data Inconsistency / Anomalies in Data\n",
    "\n",
    "It may exist in following ways in data:\n",
    "- Inconsistent formats(different formats of dates e.g, DD-MM-YYYY or YY/MM/DD)\n",
    "- Inconsistent naming conventions(such as USA,United States,U.S.A,United America)\n",
    "- Typographical Errors(such as writing Pakistan with 3 different names e.g, Pakistan,pakistan,paakistan)\n",
    "- Duplicated rows\n",
    "- Contradictory data(means logical error that's not possible e.g, son age ka father age sa ziada hona)"
   ]
  },
  {
   "cell_type": "code",
   "execution_count": 1,
   "id": "0c1f0025",
   "metadata": {},
   "outputs": [],
   "source": [
    "import pandas as pd"
   ]
  },
  {
   "cell_type": "code",
   "execution_count": 53,
   "id": "3fa1e1f3",
   "metadata": {},
   "outputs": [],
   "source": [
    "df = pd.DataFrame({\n",
    "    \"Time\" : [\"25-04-2022\",\"2022-04-25\",\"15/6/2014\",\"2014-6-15\"],\n",
    "    \"Country\" : [\"U.S.A\", \"USA\", \"America\",\"United States\"],\n",
    "    \"Name\" : [\"John\",\"Dave\",\"John\",\"Dave\"],\n",
    "    \"sales_2014\" : [5200,3000,None,1500],\n",
    "    \"sales_2022\" : [3400,None,4000,9000]\n",
    "})"
   ]
  },
  {
   "cell_type": "code",
   "execution_count": 54,
   "id": "bd9540d7",
   "metadata": {},
   "outputs": [
    {
     "data": {
      "text/html": [
       "<div>\n",
       "<style scoped>\n",
       "    .dataframe tbody tr th:only-of-type {\n",
       "        vertical-align: middle;\n",
       "    }\n",
       "\n",
       "    .dataframe tbody tr th {\n",
       "        vertical-align: top;\n",
       "    }\n",
       "\n",
       "    .dataframe thead th {\n",
       "        text-align: right;\n",
       "    }\n",
       "</style>\n",
       "<table border=\"1\" class=\"dataframe\">\n",
       "  <thead>\n",
       "    <tr style=\"text-align: right;\">\n",
       "      <th></th>\n",
       "      <th>Time</th>\n",
       "      <th>Country</th>\n",
       "      <th>Name</th>\n",
       "      <th>sales_2014</th>\n",
       "      <th>sales_2022</th>\n",
       "    </tr>\n",
       "  </thead>\n",
       "  <tbody>\n",
       "    <tr>\n",
       "      <th>0</th>\n",
       "      <td>25-04-2022</td>\n",
       "      <td>U.S.A</td>\n",
       "      <td>John</td>\n",
       "      <td>5200.0</td>\n",
       "      <td>3400.0</td>\n",
       "    </tr>\n",
       "    <tr>\n",
       "      <th>1</th>\n",
       "      <td>2022-04-25</td>\n",
       "      <td>USA</td>\n",
       "      <td>Dave</td>\n",
       "      <td>3000.0</td>\n",
       "      <td>NaN</td>\n",
       "    </tr>\n",
       "    <tr>\n",
       "      <th>2</th>\n",
       "      <td>15/6/2014</td>\n",
       "      <td>America</td>\n",
       "      <td>John</td>\n",
       "      <td>NaN</td>\n",
       "      <td>4000.0</td>\n",
       "    </tr>\n",
       "    <tr>\n",
       "      <th>3</th>\n",
       "      <td>2014-6-15</td>\n",
       "      <td>United States</td>\n",
       "      <td>Dave</td>\n",
       "      <td>1500.0</td>\n",
       "      <td>9000.0</td>\n",
       "    </tr>\n",
       "  </tbody>\n",
       "</table>\n",
       "</div>"
      ],
      "text/plain": [
       "         Time        Country  Name  sales_2014  sales_2022\n",
       "0  25-04-2022          U.S.A  John      5200.0      3400.0\n",
       "1  2022-04-25            USA  Dave      3000.0         NaN\n",
       "2   15/6/2014        America  John         NaN      4000.0\n",
       "3   2014-6-15  United States  Dave      1500.0      9000.0"
      ]
     },
     "execution_count": 54,
     "metadata": {},
     "output_type": "execute_result"
    }
   ],
   "source": [
    "df"
   ]
  },
  {
   "cell_type": "markdown",
   "id": "a4cef761",
   "metadata": {},
   "source": [
    "### Different formats of Dates"
   ]
  },
  {
   "cell_type": "code",
   "execution_count": 55,
   "id": "deddcf41",
   "metadata": {},
   "outputs": [
    {
     "name": "stderr",
     "output_type": "stream",
     "text": [
      "C:\\Users\\DELL PC\\AppData\\Local\\Temp\\ipykernel_5060\\1966664483.py:1: UserWarning: Parsing dates in %d-%m-%Y format when dayfirst=False (the default) was specified. Pass `dayfirst=True` or specify a format to silence this warning.\n",
      "  df[\"Time\"] = pd.to_datetime(df[\"Time\"], errors='coerce')\n"
     ]
    }
   ],
   "source": [
    "df[\"Time\"] = pd.to_datetime(df[\"Time\"], errors='coerce')\n",
    "df[\"Time\"] = df[\"Time\"].dt.strftime('%d/%Y/%m')"
   ]
  },
  {
   "cell_type": "code",
   "execution_count": 56,
   "id": "8633bb89",
   "metadata": {},
   "outputs": [],
   "source": [
    "df[\"Time\"] = df[\"Time\"].ffill()"
   ]
  },
  {
   "cell_type": "code",
   "execution_count": 57,
   "id": "fa1f06bb",
   "metadata": {},
   "outputs": [
    {
     "data": {
      "text/html": [
       "<div>\n",
       "<style scoped>\n",
       "    .dataframe tbody tr th:only-of-type {\n",
       "        vertical-align: middle;\n",
       "    }\n",
       "\n",
       "    .dataframe tbody tr th {\n",
       "        vertical-align: top;\n",
       "    }\n",
       "\n",
       "    .dataframe thead th {\n",
       "        text-align: right;\n",
       "    }\n",
       "</style>\n",
       "<table border=\"1\" class=\"dataframe\">\n",
       "  <thead>\n",
       "    <tr style=\"text-align: right;\">\n",
       "      <th></th>\n",
       "      <th>Time</th>\n",
       "      <th>Country</th>\n",
       "      <th>Name</th>\n",
       "      <th>sales_2014</th>\n",
       "      <th>sales_2022</th>\n",
       "    </tr>\n",
       "  </thead>\n",
       "  <tbody>\n",
       "    <tr>\n",
       "      <th>0</th>\n",
       "      <td>25/2022/04</td>\n",
       "      <td>U.S.A</td>\n",
       "      <td>John</td>\n",
       "      <td>5200.0</td>\n",
       "      <td>3400.0</td>\n",
       "    </tr>\n",
       "    <tr>\n",
       "      <th>1</th>\n",
       "      <td>25/2022/04</td>\n",
       "      <td>USA</td>\n",
       "      <td>Dave</td>\n",
       "      <td>3000.0</td>\n",
       "      <td>NaN</td>\n",
       "    </tr>\n",
       "    <tr>\n",
       "      <th>2</th>\n",
       "      <td>25/2022/04</td>\n",
       "      <td>America</td>\n",
       "      <td>John</td>\n",
       "      <td>NaN</td>\n",
       "      <td>4000.0</td>\n",
       "    </tr>\n",
       "    <tr>\n",
       "      <th>3</th>\n",
       "      <td>25/2022/04</td>\n",
       "      <td>United States</td>\n",
       "      <td>Dave</td>\n",
       "      <td>1500.0</td>\n",
       "      <td>9000.0</td>\n",
       "    </tr>\n",
       "  </tbody>\n",
       "</table>\n",
       "</div>"
      ],
      "text/plain": [
       "         Time        Country  Name  sales_2014  sales_2022\n",
       "0  25/2022/04          U.S.A  John      5200.0      3400.0\n",
       "1  25/2022/04            USA  Dave      3000.0         NaN\n",
       "2  25/2022/04        America  John         NaN      4000.0\n",
       "3  25/2022/04  United States  Dave      1500.0      9000.0"
      ]
     },
     "execution_count": 57,
     "metadata": {},
     "output_type": "execute_result"
    }
   ],
   "source": [
    "df"
   ]
  },
  {
   "cell_type": "markdown",
   "id": "938eb6de",
   "metadata": {},
   "source": [
    "### Different names\n",
    "Same method will be used for dealing with `typographical error`"
   ]
  },
  {
   "cell_type": "code",
   "execution_count": 58,
   "id": "8e6a27e7",
   "metadata": {},
   "outputs": [],
   "source": [
    "country_names = {\"U.S.A\":\"Unites States of America\", \"USA\":\"Unites States of America\", \"America\":\"Unites States of America\", \"United States\":\"Unites States of America\"}\n",
    "\n",
    "df[\"Country\"] = df[\"Country\"].replace(country_names)"
   ]
  },
  {
   "cell_type": "code",
   "execution_count": 59,
   "id": "b99aecda",
   "metadata": {},
   "outputs": [
    {
     "data": {
      "text/html": [
       "<div>\n",
       "<style scoped>\n",
       "    .dataframe tbody tr th:only-of-type {\n",
       "        vertical-align: middle;\n",
       "    }\n",
       "\n",
       "    .dataframe tbody tr th {\n",
       "        vertical-align: top;\n",
       "    }\n",
       "\n",
       "    .dataframe thead th {\n",
       "        text-align: right;\n",
       "    }\n",
       "</style>\n",
       "<table border=\"1\" class=\"dataframe\">\n",
       "  <thead>\n",
       "    <tr style=\"text-align: right;\">\n",
       "      <th></th>\n",
       "      <th>Time</th>\n",
       "      <th>Country</th>\n",
       "      <th>Name</th>\n",
       "      <th>sales_2014</th>\n",
       "      <th>sales_2022</th>\n",
       "    </tr>\n",
       "  </thead>\n",
       "  <tbody>\n",
       "    <tr>\n",
       "      <th>0</th>\n",
       "      <td>25/2022/04</td>\n",
       "      <td>Unites States of America</td>\n",
       "      <td>John</td>\n",
       "      <td>5200.0</td>\n",
       "      <td>3400.0</td>\n",
       "    </tr>\n",
       "    <tr>\n",
       "      <th>1</th>\n",
       "      <td>25/2022/04</td>\n",
       "      <td>Unites States of America</td>\n",
       "      <td>Dave</td>\n",
       "      <td>3000.0</td>\n",
       "      <td>NaN</td>\n",
       "    </tr>\n",
       "    <tr>\n",
       "      <th>2</th>\n",
       "      <td>25/2022/04</td>\n",
       "      <td>Unites States of America</td>\n",
       "      <td>John</td>\n",
       "      <td>NaN</td>\n",
       "      <td>4000.0</td>\n",
       "    </tr>\n",
       "    <tr>\n",
       "      <th>3</th>\n",
       "      <td>25/2022/04</td>\n",
       "      <td>Unites States of America</td>\n",
       "      <td>Dave</td>\n",
       "      <td>1500.0</td>\n",
       "      <td>9000.0</td>\n",
       "    </tr>\n",
       "  </tbody>\n",
       "</table>\n",
       "</div>"
      ],
      "text/plain": [
       "         Time                   Country  Name  sales_2014  sales_2022\n",
       "0  25/2022/04  Unites States of America  John      5200.0      3400.0\n",
       "1  25/2022/04  Unites States of America  Dave      3000.0         NaN\n",
       "2  25/2022/04  Unites States of America  John         NaN      4000.0\n",
       "3  25/2022/04  Unites States of America  Dave      1500.0      9000.0"
      ]
     },
     "execution_count": 59,
     "metadata": {},
     "output_type": "execute_result"
    }
   ],
   "source": [
    "df"
   ]
  },
  {
   "cell_type": "markdown",
   "id": "a536726c",
   "metadata": {},
   "source": [
    "### Duplicated names in Name column"
   ]
  },
  {
   "cell_type": "code",
   "execution_count": 32,
   "id": "00308924",
   "metadata": {},
   "outputs": [],
   "source": [
    "df.drop_duplicates(subset=\"Name\", inplace=True)"
   ]
  },
  {
   "cell_type": "code",
   "execution_count": 33,
   "id": "a866f2e5",
   "metadata": {},
   "outputs": [
    {
     "data": {
      "text/html": [
       "<div>\n",
       "<style scoped>\n",
       "    .dataframe tbody tr th:only-of-type {\n",
       "        vertical-align: middle;\n",
       "    }\n",
       "\n",
       "    .dataframe tbody tr th {\n",
       "        vertical-align: top;\n",
       "    }\n",
       "\n",
       "    .dataframe thead th {\n",
       "        text-align: right;\n",
       "    }\n",
       "</style>\n",
       "<table border=\"1\" class=\"dataframe\">\n",
       "  <thead>\n",
       "    <tr style=\"text-align: right;\">\n",
       "      <th></th>\n",
       "      <th>Time</th>\n",
       "      <th>Country</th>\n",
       "      <th>Name</th>\n",
       "      <th>sales_2014</th>\n",
       "      <th>sales_2022</th>\n",
       "    </tr>\n",
       "  </thead>\n",
       "  <tbody>\n",
       "    <tr>\n",
       "      <th>0</th>\n",
       "      <td>25-04-2022</td>\n",
       "      <td>Unites States of America</td>\n",
       "      <td>John</td>\n",
       "      <td>1200.0</td>\n",
       "      <td>3400.0</td>\n",
       "    </tr>\n",
       "    <tr>\n",
       "      <th>1</th>\n",
       "      <td>25-04-2022</td>\n",
       "      <td>Unites States of America</td>\n",
       "      <td>Dave</td>\n",
       "      <td>3000.0</td>\n",
       "      <td>NaN</td>\n",
       "    </tr>\n",
       "  </tbody>\n",
       "</table>\n",
       "</div>"
      ],
      "text/plain": [
       "         Time                   Country  Name  sales_2014  sales_2022\n",
       "0  25-04-2022  Unites States of America  John      1200.0      3400.0\n",
       "1  25-04-2022  Unites States of America  Dave      3000.0         NaN"
      ]
     },
     "execution_count": 33,
     "metadata": {},
     "output_type": "execute_result"
    }
   ],
   "source": [
    "df"
   ]
  },
  {
   "cell_type": "markdown",
   "id": "f2cb43c4",
   "metadata": {},
   "source": [
    "### Contradictory Data; \n",
    "\n",
    "Here `sales_2014` should be less than `sales_2022`, otherwise we consider it a logical error"
   ]
  },
  {
   "cell_type": "code",
   "execution_count": 60,
   "id": "c0f28051",
   "metadata": {},
   "outputs": [
    {
     "data": {
      "text/html": [
       "<div>\n",
       "<style scoped>\n",
       "    .dataframe tbody tr th:only-of-type {\n",
       "        vertical-align: middle;\n",
       "    }\n",
       "\n",
       "    .dataframe tbody tr th {\n",
       "        vertical-align: top;\n",
       "    }\n",
       "\n",
       "    .dataframe thead th {\n",
       "        text-align: right;\n",
       "    }\n",
       "</style>\n",
       "<table border=\"1\" class=\"dataframe\">\n",
       "  <thead>\n",
       "    <tr style=\"text-align: right;\">\n",
       "      <th></th>\n",
       "      <th>Time</th>\n",
       "      <th>Country</th>\n",
       "      <th>Name</th>\n",
       "      <th>sales_2014</th>\n",
       "      <th>sales_2022</th>\n",
       "    </tr>\n",
       "  </thead>\n",
       "  <tbody>\n",
       "    <tr>\n",
       "      <th>0</th>\n",
       "      <td>25/2022/04</td>\n",
       "      <td>Unites States of America</td>\n",
       "      <td>John</td>\n",
       "      <td>5200.0</td>\n",
       "      <td>3400.0</td>\n",
       "    </tr>\n",
       "    <tr>\n",
       "      <th>1</th>\n",
       "      <td>25/2022/04</td>\n",
       "      <td>Unites States of America</td>\n",
       "      <td>Dave</td>\n",
       "      <td>3000.0</td>\n",
       "      <td>NaN</td>\n",
       "    </tr>\n",
       "    <tr>\n",
       "      <th>2</th>\n",
       "      <td>25/2022/04</td>\n",
       "      <td>Unites States of America</td>\n",
       "      <td>John</td>\n",
       "      <td>NaN</td>\n",
       "      <td>4000.0</td>\n",
       "    </tr>\n",
       "    <tr>\n",
       "      <th>3</th>\n",
       "      <td>25/2022/04</td>\n",
       "      <td>Unites States of America</td>\n",
       "      <td>Dave</td>\n",
       "      <td>1500.0</td>\n",
       "      <td>9000.0</td>\n",
       "    </tr>\n",
       "  </tbody>\n",
       "</table>\n",
       "</div>"
      ],
      "text/plain": [
       "         Time                   Country  Name  sales_2014  sales_2022\n",
       "0  25/2022/04  Unites States of America  John      5200.0      3400.0\n",
       "1  25/2022/04  Unites States of America  Dave      3000.0         NaN\n",
       "2  25/2022/04  Unites States of America  John         NaN      4000.0\n",
       "3  25/2022/04  Unites States of America  Dave      1500.0      9000.0"
      ]
     },
     "execution_count": 60,
     "metadata": {},
     "output_type": "execute_result"
    }
   ],
   "source": [
    "df"
   ]
  },
  {
   "cell_type": "code",
   "execution_count": 61,
   "id": "55eaa2d8",
   "metadata": {},
   "outputs": [],
   "source": [
    "df = df.drop(df[df[\"sales_2022\"]<=df[\"sales_2014\"]].index)"
   ]
  },
  {
   "cell_type": "code",
   "execution_count": 62,
   "id": "b9fecbf3",
   "metadata": {},
   "outputs": [
    {
     "data": {
      "text/html": [
       "<div>\n",
       "<style scoped>\n",
       "    .dataframe tbody tr th:only-of-type {\n",
       "        vertical-align: middle;\n",
       "    }\n",
       "\n",
       "    .dataframe tbody tr th {\n",
       "        vertical-align: top;\n",
       "    }\n",
       "\n",
       "    .dataframe thead th {\n",
       "        text-align: right;\n",
       "    }\n",
       "</style>\n",
       "<table border=\"1\" class=\"dataframe\">\n",
       "  <thead>\n",
       "    <tr style=\"text-align: right;\">\n",
       "      <th></th>\n",
       "      <th>Time</th>\n",
       "      <th>Country</th>\n",
       "      <th>Name</th>\n",
       "      <th>sales_2014</th>\n",
       "      <th>sales_2022</th>\n",
       "    </tr>\n",
       "  </thead>\n",
       "  <tbody>\n",
       "    <tr>\n",
       "      <th>1</th>\n",
       "      <td>25/2022/04</td>\n",
       "      <td>Unites States of America</td>\n",
       "      <td>Dave</td>\n",
       "      <td>3000.0</td>\n",
       "      <td>NaN</td>\n",
       "    </tr>\n",
       "    <tr>\n",
       "      <th>2</th>\n",
       "      <td>25/2022/04</td>\n",
       "      <td>Unites States of America</td>\n",
       "      <td>John</td>\n",
       "      <td>NaN</td>\n",
       "      <td>4000.0</td>\n",
       "    </tr>\n",
       "    <tr>\n",
       "      <th>3</th>\n",
       "      <td>25/2022/04</td>\n",
       "      <td>Unites States of America</td>\n",
       "      <td>Dave</td>\n",
       "      <td>1500.0</td>\n",
       "      <td>9000.0</td>\n",
       "    </tr>\n",
       "  </tbody>\n",
       "</table>\n",
       "</div>"
      ],
      "text/plain": [
       "         Time                   Country  Name  sales_2014  sales_2022\n",
       "1  25/2022/04  Unites States of America  Dave      3000.0         NaN\n",
       "2  25/2022/04  Unites States of America  John         NaN      4000.0\n",
       "3  25/2022/04  Unites States of America  Dave      1500.0      9000.0"
      ]
     },
     "execution_count": 62,
     "metadata": {},
     "output_type": "execute_result"
    }
   ],
   "source": [
    "df"
   ]
  }
 ],
 "metadata": {
  "kernelspec": {
   "display_name": "Python 3 (ipykernel)",
   "language": "python",
   "name": "python3"
  },
  "language_info": {
   "codemirror_mode": {
    "name": "ipython",
    "version": 3
   },
   "file_extension": ".py",
   "mimetype": "text/x-python",
   "name": "python",
   "nbconvert_exporter": "python",
   "pygments_lexer": "ipython3",
   "version": "3.11.3"
  }
 },
 "nbformat": 4,
 "nbformat_minor": 5
}
